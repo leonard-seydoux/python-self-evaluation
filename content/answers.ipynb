{
 "cells": [
  {
   "cell_type": "markdown",
   "metadata": {},
   "source": [
    "# Self-evaluate your scientific Python skills\n",
    "\n",
    "![](https://img.shields.io/badge/Python->3.11-blue)\n",
    "![](https://img.shields.io/badge/Last_update-Sep._2025-yellow)\n",
    "![](https://img.shields.io/badge/Status-available-green)\n",
    "[![](https://img.shields.io/badge/Institution-IPGP-red)](https://www.ipgp.fr/)\n",
    "[![](https://img.shields.io/badge/Contact-seydoux@ipgp.fr-red)](mailto:seydoux@ippg.fr)"
   ]
  },
  {
   "cell_type": "markdown",
   "metadata": {},
   "source": [
    "\n",
    "## 1. Introduction\n",
    "\n",
    "This notebook is a self-assessment to help you determine whether you have the Python skills needed to succeed in this course. It contains a series of questions that you must answer by adding code cells and, if needed, markdown explanations. The exercises should feel manageable if you have the expected background. If you find them too difficult, we advise against enrolling in this course, as it requires a somehow solid understanding of Python and scientific libraries. However, if you’re unsure and would like to discuss your level and options, feel free to reach out to the teaching team—we’re happy to help. This session also introduces key resources that can assist you in solving problems throughout the course.  \n",
    "\n",
    "- Always check the **official documentations** to understand a library's API and find usage examples. For example, the [NumPy documentation](https://numpy.org/doc/stable/) provides a comprehensive guide to the library's functions and classes. \n",
    "\n",
    "- **Search engines** and large language models chatbot (e.g., ChatGPT, Gemini, Claude) can provide quick answers, but always verify the information before using it. Note that we do not prevent you from using these tools, but we encourage you to use them wisely.\n",
    "\n",
    "- **Q&A platforms** such as [Stack Overflow](https://stackoverflow.com/) where developers share solutions to programming problems posed by others. You can search for your issue and find answers to similar questions that have already been asked. While helpful, not all answers are accurate, so you'll need to always double-check. \n",
    "\n",
    "- Quick references for common functions in popular scientific libraries are also often available in the form of **cheat sheets**. At IPGP, a group of researchers have created a [Python scientific cheat sheet](https://ipgp.github.io/scientific_python_cheat_sheet/) that you can take time to explore. There are also library-specific cheat sheets, such as the [NumPy](https://s3.amazonaws.com/assets.datacamp.com/blog_assets/Numpy_Python_Cheat_Sheet.pdf) or the [Matplotlib](https://s3.amazonaws.com/assets.datacamp.com/blog_assets/Python_Matplotlib_Cheat_Sheet.pdf) cheat sheets.\n",
    "\n",
    "Use these resources wisely to support your learning and problem-solving throughout the course. This notebook was created by Léonard Seydoux for the Earth Data Science course at the [Institut de Physique du Globe de Paris](https://www.ipgp.fr/fr). It was proofread by Geneviève Moguilny and Alexandre Fournier in 2024. If you find any mistakes despite our efforts, please let us know."
   ]
  },
  {
   "attachments": {},
   "cell_type": "markdown",
   "metadata": {
    "id": "jNTSWHAWHkb6"
   },
   "source": [
    "## 2. Iterables\n",
    "\n",
    "In this course, we will frequently use the term **object**. In Python, everything is an object. An object is a data structure that contains two main components: **attributes** and **methods**. Attributes are the data stored within the object, while methods are functions that can be applied to the data.\n",
    "\n",
    "For example, a `list` object contains a set of elements (the data), and also has a variety of methods that operate on this list. Some of these methods include `append()`, `sort()`, and `reverse()`. You can find a complete list of methods available for a `list` object in the [official Python documentation](https://docs.python.org/3/tutorial/datastructures.html#more-on-lists).\n",
    "\n",
    "### 2.1. Lists\n",
    "\n",
    "A list is a collection of elements, which can be of any data type, such as integers, floats, strings, or even a mix of different types. Lists are defined using square brackets `[]`, with elements separated by commas. A key characteristic of lists is that they are **ordered**, meaning the sequence in which the elements appear is important. For instance, the list `[1, 2, 3]` is considered different from `[2, 1, 3]`. \n",
    "\n",
    "Additionally, lists are indexed, meaning each element has a specific position. The first element in the list has an index of `0`, the second element has an index of `1`, and so on. Negative indices can also be used, with `-1` referring to the last element, `-2` to the second-to-last, and so forth.\n",
    "\n",
    "> **Questions**\n",
    "> 1. Create a list containing the integers from 4 to 6. Store this list in a variable called `integers` and display it.\n",
    "> 2. Create a list containing the first three letters of the alphabet. Store this list in a variable called `letters` and display it.\n",
    "> 3. Display the second element of the `letters` list. Then, change this second element to the letter `\"d\"` without redefining the entire list, and display the updated list.\n",
    "> 4. Combine the `integers` and `letters` lists into a new list. Choose an appropriate name for the new list and display it. What do you observe when you combine the two lists?\n",
    "> 5. Multiply the `letters` list by 2 and display the result. What happens when you do this?\n",
    "> 6. Try multiplying the `letters` list by itself (i.e., `letters * letters`). What do you observe? Why do you think this happens?\n",
    "> \n",
    "> **Answers**\n",
    "> \n",
    "> See the code cells below for the answers to the questions."
   ]
  },
  {
   "cell_type": "code",
   "execution_count": 1,
   "metadata": {},
   "outputs": [
    {
     "name": "stdout",
     "output_type": "stream",
     "text": [
      "1. A list of integers: [4, 5, 6]\n",
      "2. A list of characters: ['a', 'b', 'c']\n",
      "3. Replacing a value in a list ['a', 'd', 'c']\n",
      "4. Lists are type agnostic and can be concatenated with other lists [4, 5, 6, 'a', 'd', 'c']\n",
      "5. Multiplying a list by an integer repeats the list that many times ['a', 'd', 'c', 'a', 'd', 'c']\n",
      "6. A list cannot be multiplied by another list.\n"
     ]
    }
   ],
   "source": [
    "# 1\n",
    "integers = [4, 5, 6]\n",
    "print(\"1. A list of integers:\", integers)\n",
    "\n",
    "# 2\n",
    "letters = [\"a\", \"b\", \"c\"]\n",
    "print(\"2. A list of characters:\", letters)\n",
    "\n",
    "# 3\n",
    "letters[1] = \"d\"\n",
    "print(\"3. Replacing a value in a list\", letters)\n",
    "\n",
    "# 4\n",
    "integers_and_letters = integers + letters\n",
    "print(\n",
    "    \"4. Lists are type agnostic and can be concatenated with other lists\",\n",
    "    integers_and_letters,\n",
    ")\n",
    "\n",
    "# 5\n",
    "print(\n",
    "    \"5. Multiplying a list by an integer repeats the list that many times\",\n",
    "    2 * letters,\n",
    ")\n",
    "\n",
    "# 6\n",
    "try:\n",
    "    print(\"6.\", letters * letters)\n",
    "except:\n",
    "    print(\"6. A list cannot be multiplied by another list.\")"
   ]
  },
  {
   "attachments": {},
   "cell_type": "markdown",
   "metadata": {
    "id": "JDNEqGcs0XnH"
   },
   "source": [
    "### 2.2. List Methods\n",
    "\n",
    "In Python, a **method** is a function that operates on an object. For example, the method `append()` is applied to a `list` object and adds an element to the end of the list. Each object in Python has its own set of methods that can be used to modify or interact with the data inside the object.\n",
    "\n",
    "You can find a full list of methods available for a `list` object in the [official Python documentation](https://docs.python.org/3/tutorial/datastructures.html#more-on-lists).\n",
    "\n",
    "> **Questions**\n",
    ">\n",
    "> 1. Create a list called `molecules` containing the following elements: `\"CH4\", \"H2O\", \"NH3\", \"O3\", \"CO2\", \"CH3COOH\"`.\n",
    "> 2. Find and display the index of the `\"H2O\"` molecule in this list.\n",
    "> 3. Now, given the list `\"CH4\", \"H2O\", \"NH3\", \"O3\", \"H2O\", \"CH3COOH\", \"H2O\"`, find and display all indices where `\"H2O\"` appears in the list.\n",
    "> \n",
    "> **Answers**\n",
    ">\n",
    "> See the code cells below for the answers to the questions. Note that the `try` and `except` blocks are used to handle exceptions, allowing the notebook to run without errors even if the element is not found in the list."
   ]
  },
  {
   "cell_type": "code",
   "execution_count": 2,
   "metadata": {
    "id": "wum8HCLYz6vp"
   },
   "outputs": [
    {
     "name": "stdout",
     "output_type": "stream",
     "text": [
      "1. List of molecules: ['CH4', 'H2O', 'NH3', 'O3', 'CO2', 'CH3COOH']\n",
      "2. The first index of H2O is 1\n",
      "3. All indexes of H2O are [1, 4, 6]\n"
     ]
    }
   ],
   "source": [
    "# 1\n",
    "molecules = [\"CH4\", \"H2O\", \"NH3\", \"O3\", \"CO2\", \"CH3COOH\"]\n",
    "print(\"1. List of molecules:\", molecules)\n",
    "\n",
    "# 2\n",
    "index_of_h2o = molecules.index(\"H2O\")\n",
    "print(\"2. The first index of H2O is\", index_of_h2o)\n",
    "\n",
    "# 3\n",
    "multiple_molecules = [\"CH4\", \"H2O\", \"NH3\", \"O3\", \"H2O\", \"CH3COOH\", \"H2O\"]\n",
    "\n",
    "# 3. Solution (basic)\n",
    "indexes_of_h2o = []\n",
    "for index, molecule in enumerate(multiple_molecules):\n",
    "    if molecule == \"H2O\":\n",
    "        indexes_of_h2o.append(index)\n",
    "\n",
    "# 3. Solution (list comprehension)\n",
    "indexes_of_h2o = [i for i, m in enumerate(multiple_molecules) if m == \"H2O\"]\n",
    "print(\"3. All indexes of H2O are\", indexes_of_h2o)"
   ]
  },
  {
   "attachments": {},
   "cell_type": "markdown",
   "metadata": {
    "id": "1DhpahCH0KRR"
   },
   "source": [
    "### 2.3. Tuples\n",
    "\n",
    "Tuples are similar to lists in Python, but with one key difference: **tuples are immutable**. This means that once a tuple is created, it cannot be modified—unlike lists, which can have elements added, removed, or changed. A tuple is defined using parentheses `()`, with elements separated by commas. For example, the tuple `(1, 2, 3)` contains the integers 1, 2, and 3.\n",
    "\n",
    "> **Questions**\n",
    "> \n",
    "> 1. Create a tuple called `alphabet` containing the first three letters of the alphabet. Print the second element of the tuple. \n",
    "> 1. Then, attempt to replace the second element with the letter `\"d\"`, **without redefining the entire tuple**, and print the result. What do you observe?\n",
    "> 1. Try to add the list `letters` to the tuple `alphabet` and print the resulting object. What do you observe?\n",
    ">\n",
    "> **Answers**\n",
    ">\n",
    "> See the code cells below for the answers to the questions."
   ]
  },
  {
   "cell_type": "code",
   "execution_count": 3,
   "metadata": {
    "id": "bgQpOoS56BSY"
   },
   "outputs": [
    {
     "name": "stdout",
     "output_type": "stream",
     "text": [
      "1. Second element of a tuple: b\n",
      "2. Tuple is immutable, can't change its elements.\n",
      "2. We cannot concatenate tuple with list.\n"
     ]
    }
   ],
   "source": [
    "# 1\n",
    "alphabet = \"a\", \"b\", \"c\"\n",
    "print(\"1. Second element of a tuple:\", alphabet[1])\n",
    "\n",
    "# 2.\n",
    "try:\n",
    "    alphabet[1] = \"d\"\n",
    "except:\n",
    "    print(\"2. Tuple is immutable, can't change its elements.\")\n",
    "\n",
    "# 3\n",
    "try:\n",
    "    print(alphabet + letters)\n",
    "except:\n",
    "    print(\"2. We cannot concatenate tuple with list.\")"
   ]
  },
  {
   "attachments": {},
   "cell_type": "markdown",
   "metadata": {
    "id": "pWBRRF9BKA4P"
   },
   "source": [
    "## 3. NumPy\n",
    "\n",
    "The [NumPy library](https://numpy.org/doc/stable/) is essential for scientific computing in Python. It is developed and maintained by the NumFOCUS community. NumPy is short for \"Numerical Python\" and is used for working with arrays and matrices. Many other libraries, such as [Scipy](https://www.scipy.org/) (scientific computing), [Matplotlib](https://matplotlib.org/) (plotting), [Pandas](https://pandas.pydata.org/) (data analysis), and [Scikit-learn](https://scikit-learn.org/stable/) (machine learning), are built on top of NumPy. Documentation for these libraries is available on their respective websites.\n",
    "\n",
    "In this section, we will cover the basics of NumPy and explore how to work with arrays and matrices."
   ]
  },
  {
   "cell_type": "code",
   "execution_count": 4,
   "metadata": {},
   "outputs": [],
   "source": [
    "import numpy as np"
   ]
  },
  {
   "attachments": {},
   "cell_type": "markdown",
   "metadata": {
    "id": "qZXbxBJtMoED"
   },
   "source": [
    "### 3.1. Warm-up\n",
    "\n",
    "This first set of questions will help you assess your understanding of the basic functionality of the NumPy library. These exercises will focus on creating arrays using different numerical ranges and structures, which are fundamental operations in NumPy. Take your time to fully understand each operation and its output.\n",
    "\n",
    "> **Questions**\n",
    ">\n",
    "> 1. Create a NumPy array called `integers` containing the integers from 0 to 14 (inclusive). Use a step of 1 between consecutive integers. \n",
    ">\n",
    "> 2. Create a NumPy called `reals` containing values starting from 0 up to 100 (inclusive), but this time, with a step of 0.5 between consecutive values. Be mindful of the precision when defining the step and the endpoint of the array.\n",
    ">\n",
    "> 3. Create a NumPy called `angles` that ranges from $-\\pi$ to $\\pi$. The array should contain 30 evenly spaced values between these two limits. To do this, you may want to use a function that generates a specified number of points within a given interval.\n",
    ">\n",
    "> 4. Create a NumPy called `zeros` that consists of 10 elements, all set to 0. Use a specific NumPy function designed for creating arrays with constant values.\n",
    "> \n",
    "> **Answers**\n",
    "> \n",
    "> Below, you will find the code cells where you can input your answers to the questions above. Make sure you test your code by running the cells, and observe the results to confirm you are on the right track."
   ]
  },
  {
   "cell_type": "code",
   "execution_count": 5,
   "metadata": {
    "id": "qjSgUmSFRFaU"
   },
   "outputs": [
    {
     "name": "stdout",
     "output_type": "stream",
     "text": [
      "1. One dimensional array of integers: [ 0  1  2  3  4  5  6  7  8  9 10 11 12 13 14]\n",
      "2. One dimensional array of reals: [  0.    0.5   1.    1.5   2.    2.5   3.    3.5   4.    4.5   5.    5.5\n",
      "   6.    6.5   7.    7.5   8.    8.5   9.    9.5  10.   10.5  11.   11.5\n",
      "  12.   12.5  13.   13.5  14.   14.5  15.   15.5  16.   16.5  17.   17.5\n",
      "  18.   18.5  19.   19.5  20.   20.5  21.   21.5  22.   22.5  23.   23.5\n",
      "  24.   24.5  25.   25.5  26.   26.5  27.   27.5  28.   28.5  29.   29.5\n",
      "  30.   30.5  31.   31.5  32.   32.5  33.   33.5  34.   34.5  35.   35.5\n",
      "  36.   36.5  37.   37.5  38.   38.5  39.   39.5  40.   40.5  41.   41.5\n",
      "  42.   42.5  43.   43.5  44.   44.5  45.   45.5  46.   46.5  47.   47.5\n",
      "  48.   48.5  49.   49.5  50.   50.5  51.   51.5  52.   52.5  53.   53.5\n",
      "  54.   54.5  55.   55.5  56.   56.5  57.   57.5  58.   58.5  59.   59.5\n",
      "  60.   60.5  61.   61.5  62.   62.5  63.   63.5  64.   64.5  65.   65.5\n",
      "  66.   66.5  67.   67.5  68.   68.5  69.   69.5  70.   70.5  71.   71.5\n",
      "  72.   72.5  73.   73.5  74.   74.5  75.   75.5  76.   76.5  77.   77.5\n",
      "  78.   78.5  79.   79.5  80.   80.5  81.   81.5  82.   82.5  83.   83.5\n",
      "  84.   84.5  85.   85.5  86.   86.5  87.   87.5  88.   88.5  89.   89.5\n",
      "  90.   90.5  91.   91.5  92.   92.5  93.   93.5  94.   94.5  95.   95.5\n",
      "  96.   96.5  97.   97.5  98.   98.5  99.   99.5 100. ]\n",
      "3. One dimensional array of angles: [-3.14159265 -2.92493109 -2.70826953 -2.49160797 -2.2749464  -2.05828484\n",
      " -1.84162328 -1.62496172 -1.40830016 -1.19163859 -0.97497703 -0.75831547\n",
      " -0.54165391 -0.32499234 -0.10833078  0.10833078  0.32499234  0.54165391\n",
      "  0.75831547  0.97497703  1.19163859  1.40830016  1.62496172  1.84162328\n",
      "  2.05828484  2.2749464   2.49160797  2.70826953  2.92493109  3.14159265]\n",
      "4. One dimensional array of zeros: [0. 0. 0. 0. 0. 0. 0. 0. 0. 0.]\n"
     ]
    }
   ],
   "source": [
    "# 1\n",
    "integers = np.arange(15)\n",
    "print(\"1. One dimensional array of integers:\", integers)\n",
    "\n",
    "# 2\n",
    "reals = np.arange(0, 100.5, 0.5)\n",
    "print(\"2. One dimensional array of reals:\", reals)\n",
    "\n",
    "# 3\n",
    "angles = np.linspace(-np.pi, np.pi, 30)\n",
    "print(\"3. One dimensional array of angles:\", angles)\n",
    "\n",
    "# 4\n",
    "zeros = np.zeros(10)\n",
    "print(\"4. One dimensional array of zeros:\", zeros)"
   ]
  },
  {
   "attachments": {},
   "cell_type": "markdown",
   "metadata": {
    "id": "jovJKkLUYfrU"
   },
   "source": [
    "### 3.2. Basic Operations with NumPy Arrays\n",
    "\n",
    "In this section, you will perform several basic operations using NumPy functions. These operations are fundamental to numerical computing and will help you become more familiar with how to manipulate data using NumPy arrays.\n",
    "\n",
    "> **Questions**\n",
    ">\n",
    "> 1. Using NumPy functions, perform the following operations:\n",
    ">    - Compute the square root of 10.\n",
    ">    - Calculate the tangent, sine, and cosine of $\\pi$.\n",
    ">    - Compute the logarithm of 10, the natural logarithm of 10, and the exponential of 1.\n",
    ">\n",
    "> 2. Generate a Gaussian random vector $\\mathbf{x}$ with 100 elements, where $\\mathbf{x} \\sim \\mathcal{N}(0, 1)$. This means the vector should have a mean of 0 and a standard deviation of 1. Use the appropriate NumPy function to generate this random vector.\n",
    ">\n",
    "> 3. Using NumPy functions, estimate the following for the vector $\\mathbf{x}$:\n",
    ">    - The average of $\\mathbf{x}$, denoted as $\\langle \\mathbf{x} \\rangle$.\n",
    ">    - The standard deviation of $\\mathbf{x}$, calculated as $\\sqrt{\\langle \\mathbf{x}^2 - \\langle \\mathbf{x} \\rangle^2 \\rangle}$.\n",
    ">    - The minimum value of $\\mathbf{x}$ and the maximum value of $\\mathbf{x}$.\n",
    ">\n",
    "> 4. Create two five-element vectors, $\\mathbf{v}_1$ and $\\mathbf{v}_2$, with any values of your choice.\n",
    ">\n",
    "> 5. Calculate the element-wise product of $\\mathbf{v}_1$ and $\\mathbf{v}_2$. Then calculate the dot product $\\mathbf{v}_1\\cdot\\mathbf{v}_2$ and the outer product $\\mathbf{v}_1 \\times \\mathbf{v}_2$.\n",
    ">\n",
    "> **Answers**\n",
    ">\n",
    "> Below, you will find the code cells where you can input your answers to the questions above. Make sure you test your code by running the cells, and observe the results to confirm you are on the right track."
   ]
  },
  {
   "cell_type": "code",
   "execution_count": 6,
   "metadata": {
    "id": "MR_jIEcFsF0S"
   },
   "outputs": [
    {
     "name": "stdout",
     "output_type": "stream",
     "text": [
      "1. Mathematical functions\n",
      "√10 = 3.16228\n",
      "tan(π) = -0.00000\n",
      "sin(π) = 0.00000\n",
      "cos(π) = -1.00000\n",
      "log10(10) = 1.00000\n",
      "log(10) = 2.30259\n",
      "exp(1) = 2.71828\n",
      "\n",
      "2. Random numbers\n",
      "x ~ N(0, 1): [ 0.73109767  0.09778045 -1.32545192  0.7028316  -0.8544867 ]\n",
      "\n",
      "3. Operations on array\n",
      "mean(x) -0.07953\n",
      "std(x): 0.92583\n",
      "min(x): -2.37703\n",
      "max(x): 2.09521\n",
      "\n",
      "4. Vector operations\n",
      "v_1: [1 2 3 4 5]\n",
      "v_2: [4 5 6 7 8]\n",
      "\n",
      "5. Vector operations\n",
      "v_1 * v_2: [ 4 10 18 28 40]\n",
      "v_1 . v_2: 100\n",
      "v_1 x v_2: [[ 4  5  6  7  8]\n",
      " [ 8 10 12 14 16]\n",
      " [12 15 18 21 24]\n",
      " [16 20 24 28 32]\n",
      " [20 25 30 35 40]]\n"
     ]
    }
   ],
   "source": [
    "# 1\n",
    "print(\"1. Mathematical functions\")\n",
    "print(\"√10 = {:0.5f}\".format(np.sqrt(10)))\n",
    "print(\"tan(π) = {:0.5f}\".format(np.tan(np.pi)))\n",
    "print(\"sin(π) = {:0.5f}\".format(np.sin(np.pi)))\n",
    "print(\"cos(π) = {:0.5f}\".format(np.cos(np.pi)))\n",
    "print(\"log10(10) = {:0.5f}\".format(np.log10(10)))\n",
    "print(\"log(10) = {:0.5f}\".format(np.log(10)))\n",
    "print(\"exp(1) = {:0.5f}\".format(np.exp(1)))\n",
    "print()\n",
    "\n",
    "# 2\n",
    "print(\"2. Random numbers\")\n",
    "x = np.random.normal(loc=0, scale=1, size=100)\n",
    "print(\"x ~ N(0, 1):\", x[:5])\n",
    "print()\n",
    "\n",
    "# 3\n",
    "print(\"3. Operations on array\")\n",
    "print(\"mean(x) {:0.5f}\".format(np.mean(x)))\n",
    "print(\"std(x): {:0.5f}\".format(np.std(x)))\n",
    "print(\"min(x): {:0.5f}\".format(np.min(x)))\n",
    "print(\"max(x): {:0.5f}\".format(np.max(x)))\n",
    "print()\n",
    "\n",
    "# 4\n",
    "print(\"4. Vector operations\")\n",
    "vector_1 = np.array([1, 2, 3, 4, 5])\n",
    "vector_2 = np.array([4, 5, 6, 7, 8])\n",
    "print(\"v_1:\", vector_1)\n",
    "print(\"v_2:\", vector_2)\n",
    "print()\n",
    "\n",
    "# 5\n",
    "print(\"5. Vector operations\")\n",
    "print(\"v_1 * v_2:\", vector_1 * vector_2)\n",
    "print(\"v_1 . v_2:\", vector_1.dot(vector_2))  # or np.dot(vector_1, vector_2)\n",
    "print(\"v_1 x v_2:\", np.outer(vector_1, vector_2))"
   ]
  },
  {
   "attachments": {},
   "cell_type": "markdown",
   "metadata": {
    "id": "SFPe063IkbJd"
   },
   "source": [
    "### 3.3. Stacking & Reshaping\n",
    "\n",
    "In this section, you'll practice creating and reshaping arrays, as well as stacking arrays both horizontally and vertically. Make sure you are familiar with the basic array manipulation techniques before attempting these exercises. If needed, refer to the previous sections to refresh your knowledge on creating arrays and reshaping them.\n",
    "\n",
    "> **Questions**\n",
    ">\n",
    "> 1. Create an array of angles ranging from $-\\pi$ to $\\pi$ with 30 steps.\n",
    ">\n",
    "> 2. Reshape the array to a 10 $\\times$ 3 matrix and store it in a variable called `angles_matrix`.\n",
    ">\n",
    "> 3. Create `angles_stacked_horizontally`, which is a stack of the `angles` array with itself in reverse along the horizontal axis.\n",
    ">\n",
    "> 4. Create `angles_stacked_vertically`, which is a stack of the `angles` array with itself in reverse along the vertical axis.\n",
    ">\n",
    "> **Answers**\n",
    "> \n",
    "> Check the code cells below for the answers to the questions."
   ]
  },
  {
   "cell_type": "code",
   "execution_count": 7,
   "metadata": {
    "id": "Yzl8uElgngai"
   },
   "outputs": [
    {
     "name": "stdout",
     "output_type": "stream",
     "text": [
      "1. One dimensional array of angles with shape (30,)\n",
      "2. Two dimensional array of angles with shape (10, 3)\n",
      "3. Stacked horizontally array of angles with shape (60,)\n",
      "4. Stacked vertically array of angles with shape (2, 30)\n"
     ]
    }
   ],
   "source": [
    "# 1\n",
    "angles = np.linspace(-np.pi, np.pi, 30)\n",
    "print(\"1. One dimensional array of angles with shape\", angles.shape)\n",
    "\n",
    "# 2\n",
    "angles_matrix = np.reshape(angles, (10, 3))\n",
    "print(\"2. Two dimensional array of angles with shape\", angles_matrix.shape)\n",
    "\n",
    "# 3\n",
    "# The slice notation [::-1] means \"reverse the array\".\n",
    "angles_stacked_horizontally = np.hstack((angles, angles[::-1]))\n",
    "print(\n",
    "    \"3. Stacked horizontally array of angles with shape\",\n",
    "    angles_stacked_horizontally.shape,\n",
    ")\n",
    "\n",
    "# 4\n",
    "angles_stacked_vertically = np.vstack((angles, angles[::-1]))\n",
    "print(\n",
    "    \"4. Stacked vertically array of angles with shape\",\n",
    "    angles_stacked_vertically.shape,\n",
    ")"
   ]
  },
  {
   "attachments": {},
   "cell_type": "markdown",
   "metadata": {
    "id": "HMglaWWLuWmS"
   },
   "source": [
    "### 3.4. Read a Comma-Separated Values (CSV) file with NumPy\n",
    "\n",
    "In this section, you'll learn how to read CSV files using NumPy. CSV is a common file format used for storing tabular data, and it is widely used in data analysis. You will use the `numpy.genfromtxt` or `numpy.loadtxt` functions to import the dataset. You’ll also briefly explore some of the operations that can be done to analyze the data you import.\n",
    "\n",
    "For this exercise, you'll work with the famous [Iris dataset](https://en.wikipedia.org/wiki/Iris_flower_data_set), which contains measurements of iris flowers, including sepal length, sepal width, petal length, and petal width. The dataset has 150 samples and will allow you to practice reading and analyzing CSV files. \n",
    "\n",
    "> **Questions**\n",
    ">\n",
    "> 1. Load the file `data/iris.csv`, excluding the last column (which contains the flower variety), and store the result in a variable called `iris_data`. Display the shape of the array.\n",
    ">\n",
    "> 2. Explore each column of the `iris_data` array. Calculate and display the following statistics for each column: data type, minimum, maximum, mean, standard deviation, and the count of NaN (Not a Number) values.\n",
    ">\n",
    "> **Answers**\n",
    ">\n",
    "> Please see the code cells below for the answers to the questions."
   ]
  },
  {
   "cell_type": "code",
   "execution_count": 8,
   "metadata": {
    "id": "ydnRpQDp0EC_"
   },
   "outputs": [
    {
     "name": "stdout",
     "output_type": "stream",
     "text": [
      "1.\n",
      "Shape of the Iris dataset: (150, 4)\n",
      "\n",
      "2.\n",
      "Array type: float64\n",
      "Min: [4.3 2.  1.  0.1]\n",
      "Max: [7.9 4.4 6.9 2.5]\n",
      "Average on each dimensions: [5.84333333 3.054      3.75866667 1.19866667]\n",
      "Standard deviation: [0.82530129 0.43214658 1.75852918 0.76061262]\n",
      "Are there any NaNs? [False False False False]\n"
     ]
    }
   ],
   "source": [
    "# 1. Load the Iris dataset from the file\n",
    "iris_data = np.genfromtxt(\n",
    "    \"iris.csv\", delimiter=\",\", usecols=(0, 1, 2, 3), skip_header=1\n",
    ")\n",
    "\n",
    "print(\"1.\")\n",
    "print(\"Shape of the Iris dataset:\", iris_data.shape)\n",
    "print()\n",
    "\n",
    "print(\"2.\")\n",
    "print(\"Array type:\", iris_data.dtype)\n",
    "print(\"Min:\", iris_data.min(axis=0))\n",
    "print(\"Max:\", iris_data.max(axis=0))\n",
    "print(\"Average on each dimensions:\", iris_data.mean(axis=0))\n",
    "print(\"Standard deviation:\", iris_data.std(axis=0))\n",
    "print(\"Are there any NaNs?\", np.isnan(iris_data).any(axis=0))"
   ]
  },
  {
   "attachments": {},
   "cell_type": "markdown",
   "metadata": {
    "id": "5vyNhRRtFzIo"
   },
   "source": [
    "### 3.5. Matrices\n",
    "\n",
    "In this section, you'll work with matrices, which are two-dimensional arrays of numbers. You will learn how to create different types of matrices using `numpy` and perform basic matrix operations. These exercises will give you hands-on experience with the creation and manipulation of matrices in Python.\n",
    "\n",
    "> **Questions**\n",
    ">\n",
    "> 1. Create a 4 x 4 identity matrix.\n",
    "> \n",
    "> 2. Create a 10 x 10 matrix filled with ones.\n",
    "> \n",
    "> 3. Create a 6 x 6 matrix of random floats, with values between 0 and 1.\n",
    "> \n",
    "> 4. Create a 6 x 1 array of random integers between 0 and 6.\n",
    "> \n",
    "> 5. Find the transpose of the matrix created in question 4.\n",
    "> \n",
    "> 6. Multiply the matrix from question 4 by the vector created in question 5.\n",
    "> \n",
    "> **Answers**\n",
    ">\n",
    "> Please see the code cells below for the answers to the questions."
   ]
  },
  {
   "cell_type": "code",
   "execution_count": 9,
   "metadata": {
    "id": "ynCq9wMQGyLd"
   },
   "outputs": [],
   "source": [
    "# 1\n",
    "identity = np.eye(4)\n",
    "\n",
    "# 2\n",
    "all_of_ones = np.ones((10, 10))\n",
    "\n",
    "# 3\n",
    "random_floats = np.random.random((6, 6))\n",
    "\n",
    "# 4\n",
    "random_ints = np.random.randint(0, 6, (6, 1))\n",
    "\n",
    "# 5\n",
    "random_floats_transposed = random_floats.T\n",
    "\n",
    "# 6\n",
    "multiplied = random_floats * random_ints"
   ]
  },
  {
   "attachments": {},
   "cell_type": "markdown",
   "metadata": {
    "id": "mgawXSyguDov"
   },
   "source": [
    "## 4. Matplotlib in a Nutshell\n",
    "\n",
    "Python offers several libraries for data visualization, with [Matplollib](https://matplotlib.org/) being the most widely used. It is a versatile library that supports static, animated, and interactive visualizations. You can use Matplollib in Python scripts, Jupyter notebooks, web applications, and graphical user interfaces. In Jupyter notebooks, Matplollib is integrated with the help of the [IPython library](https://ipython.readthedocs.io/en/stable/). By default, Matplollib displays plots as static images inline within the notebook.\n",
    "\n",
    "If you'd like to display interactive plots within the notebook, you can use the magic command `%matplotlib widget`. This command allows for more dynamic interactivity and requires the installation of the [IPympl library](https://matplotlib.org/ipympl/), which is a backend that renders Matplollib figures interactively. The documentation for this magic command is available [here](https://ipython.readthedocs.io/en/stable/interactive/magics.html#magic-matplotlib)."
   ]
  },
  {
   "cell_type": "code",
   "execution_count": 10,
   "metadata": {},
   "outputs": [],
   "source": [
    "import matplotlib.pyplot as plt"
   ]
  },
  {
   "attachments": {},
   "cell_type": "markdown",
   "metadata": {
    "id": "GIsNHvOEIMJE"
   },
   "source": [
    "### 4.1. Warmup\n",
    "\n",
    "In this exercise, you will work with the sine and cosine functions. Follow these steps:\n",
    "\n",
    "> **Questions**\n",
    ">\n",
    "> 1. **Create a vector** $\\theta \\in [0, 2\\pi]$ with 200 points.\n",
    "> 2. **Display the functions** $\\sin(\\theta)$ and $\\cos(\\theta)$ on the same plot.\n",
    "> 3. **Add a title** to the plot as \"Famous trigonometric functions.\" Also, **add axes labels** and a **legend** to distinguish between the two functions.\n",
    "> 4. **Add a grid** to the plot for better visibility.\n",
    "> 5. **Customize the appearance** of the functions by changing the color and linestyle. The sine function should appear in red with a dotted linestyle, and the cosine function should be plotted in green with a dash-dot linestyle.\n",
    ">\n",
    "> **Answers**\n",
    ">\n",
    "> Please see the code cells below for the answers to the questions."
   ]
  },
  {
   "cell_type": "code",
   "execution_count": 11,
   "metadata": {
    "id": "vDcokoO3H9ol"
   },
   "outputs": [
    {
     "data": {
      "image/png": "[encoded data removed]",
      "text/plain": [
       "<Figure size 640x480 with 1 Axes>"
      ]
     },
     "metadata": {},
     "output_type": "display_data"
    }
   ],
   "source": [
    "# 1\n",
    "theta = np.linspace(0, 2 * np.pi, 200)\n",
    "\n",
    "# 2\n",
    "sine = np.sin(theta)\n",
    "cosine = np.cos(theta)\n",
    "\n",
    "# Create a figure and axis\n",
    "fig, ax = plt.subplots()\n",
    "ax.plot(theta, sine, label=r\"$\\sin(\\theta)$\", color=\"red\", linestyle=\":\")\n",
    "ax.plot(theta, cosine, label=r\"$\\cos(\\theta)$\", color=\"green\", linestyle=\"-.\")\n",
    "\n",
    "# 3\n",
    "ax.set_title(\"Famous trigonometric functions\")\n",
    "\n",
    "# 4\n",
    "ax.grid()\n",
    "\n",
    "# 5\n",
    "ax.set_xlabel(r\"$\\theta$\")\n",
    "ax.set_ylabel(r\"$f(\\theta)$\")\n",
    "ax.legend()\n",
    "\n",
    "# Show plot\n",
    "plt.show()"
   ]
  },
  {
   "attachments": {},
   "cell_type": "markdown",
   "metadata": {
    "id": "O2nzVE-HPAg4"
   },
   "source": [
    "### 4.2. Data and Fit\n",
    "\n",
    "In this exercise, you will create a dataset and fit a function to it. Follow these steps:\n",
    "\n",
    "> **Questions**\n",
    ">\n",
    "> 1. Create a vector $x \\in [0, 50]$ with 100 points.\n",
    "> 2. Create a vector $y = ax + b + n$, where $a$ and $b$ are two scalars of your choice and $n$ is a random vector of noise of the same size as $x$, with a variance and a mean of your choice.\n",
    "> 3. Make a scatter plot of $y=f(x)$.\n",
    "> 4. Plot the fit of the function in red (`np.polyfit` and `np.poly1d`).\n",
    "> \n",
    "> **Answers**\n",
    ">   \n",
    "> Please see the code cells below for the answers to the questions."
   ]
  },
  {
   "cell_type": "code",
   "execution_count": 12,
   "metadata": {
    "id": "_10ba2vsJSBG"
   },
   "outputs": [
    {
     "data": {
      "image/png": "[encoded data removed]",
      "text/plain": [
       "<Figure size 640x480 with 1 Axes>"
      ]
     },
     "metadata": {},
     "output_type": "display_data"
    }
   ],
   "source": [
    "# 1. Create random data\n",
    "x = np.random.rand(100) * 50\n",
    "\n",
    "# 2. Create a linear relationship\n",
    "y = np.random.randn(100) * 5 + 2 * x + 2\n",
    "\n",
    "# 3. Show the data and the best fit in a scatter plot\n",
    "fig, ax = plt.subplots()\n",
    "ax.scatter(x, y, label=\"Data points\")\n",
    "\n",
    "# 4. Fit and plot the best fit line\n",
    "fitter = np.polyfit(x, y, deg=1)\n",
    "fitted = np.polyval(fitter, x)\n",
    "ax.plot(x, fitted, color=\"red\", label=\"Best fit of degree 1\")\n",
    "\n",
    "# Of course, we do the label\n",
    "ax.legend()\n",
    "ax.grid()\n",
    "ax.set_xlabel(\"x\")\n",
    "ax.set_ylabel(\"y\")\n",
    "plt.show()"
   ]
  },
  {
   "cell_type": "markdown",
   "metadata": {},
   "source": [
    "## 5. Pandas in a Nutshell\n",
    "\n",
    "The library [Pandas](https://pandas.pydata.org/) is one of the most important library for data analysis in Python. It provides a lot of functions to manipulate data stored in objects called `DataFrame`. We will see here the basics of Pandas and how to manipulate data.\n",
    "\n",
    "### 5.1. Warmup\n",
    "\n",
    "In this exercise, you will work with the `iris` dataset. Follow these steps:\n",
    "\n",
    "> **Questions**\n",
    ">\n",
    "> 1. Read the file `data/iris.csv` and store it in a variable called `iris_data` with the function `read_csv` of the library `pandas`.\n",
    "> 2. Display the first 5 rows of the dataset.\n",
    "> 3. Display the last 7 rows of the dataset.\n",
    "> 4. Display the shape of the dataset.\n",
    "> 5. Display basic statistics of the dataset with a single method.\n",
    ">\n",
    "> **Answers**\n",
    ">\n",
    "> Please see the code cells below for the answers to the questions."
   ]
  },
  {
   "cell_type": "code",
   "execution_count": 13,
   "metadata": {},
   "outputs": [
    {
     "name": "stdout",
     "output_type": "stream",
     "text": [
      "2. The first 5 rows of the dataset:\n",
      "   sepal_length  sepal_width  petal_length  petal_width species\n",
      "0           5.1          3.5           1.4          0.2      se\n",
      "1           4.9          3.0           1.4          0.2  setosa\n",
      "2           4.7          3.2           1.3          0.2  setosa\n",
      "3           4.6          3.1           1.5          0.2  setosa\n",
      "4           5.0          3.6           1.4          0.2  setosa\n",
      "\n",
      "3. The last 5 rows of the dataset:\n",
      "     sepal_length  sepal_width  petal_length  petal_width    species\n",
      "145           6.7          3.0           5.2          2.3  virginica\n",
      "146           6.3          2.5           5.0          1.9  virginica\n",
      "147           6.5          3.0           5.2          2.0  virginica\n",
      "148           6.2          3.4           5.4          2.3  virginica\n",
      "149           5.9          3.0           5.1          1.8  virginica\n",
      "\n",
      "4. The shape of the dataset:\n",
      "(150, 5)\n",
      "\n",
      "5. The columns of the dataset:\n",
      "       sepal_length  sepal_width  petal_length  petal_width\n",
      "count    150.000000   150.000000    150.000000   150.000000\n",
      "mean       5.843333     3.054000      3.758667     1.198667\n",
      "std        0.828066     0.433594      1.764420     0.763161\n",
      "min        4.300000     2.000000      1.000000     0.100000\n",
      "25%        5.100000     2.800000      1.600000     0.300000\n",
      "50%        5.800000     3.000000      4.350000     1.300000\n",
      "75%        6.400000     3.300000      5.100000     1.800000\n",
      "max        7.900000     4.400000      6.900000     2.500000\n",
      "\n"
     ]
    }
   ],
   "source": [
    "import pandas as pd\n",
    "\n",
    "# 1\n",
    "iris_data = pd.read_csv(\"iris.csv\", sep=\",\", header=0)\n",
    "\n",
    "# 2\n",
    "print(\"2. The first 5 rows of the dataset:\")\n",
    "print(iris_data.head(), end=\"\\n\\n\")\n",
    "\n",
    "# 3\n",
    "print(\"3. The last 5 rows of the dataset:\")\n",
    "print(iris_data.tail(), end=\"\\n\\n\")\n",
    "\n",
    "# 4\n",
    "print(\"4. The shape of the dataset:\")\n",
    "print(iris_data.shape, end=\"\\n\\n\")\n",
    "\n",
    "# 5\n",
    "print(\"5. The columns of the dataset:\")\n",
    "print(iris_data.describe(), end=\"\\n\\n\")"
   ]
  },
  {
   "cell_type": "markdown",
   "metadata": {},
   "source": [
    "### 5.2. Data manipulation and display\n",
    "\n",
    "In this exercise, you will work with the `iris` dataset.\n",
    "Follow these steps:\n",
    "\n",
    "> **Questions**\n",
    ">\n",
    "> 1. Display the mean of the sepal length of the dataset (all varieties at once).\n",
    "> 1. Display the standard deviation of the sepal length of the dataset (all varieties at once).\n",
    "> 1. Plot the histogram of the sepal length for the variety \"setosa\".\n",
    "> 1. Scatter plot the sepal length versus the sepal width, and color the points according to the variety of the flower.\n",
    ">\n",
    "> **Answers**\n",
    ">\n",
    "> Please see the code cells below for the answers to the questions."
   ]
  },
  {
   "cell_type": "code",
   "execution_count": 14,
   "metadata": {},
   "outputs": [
    {
     "name": "stdout",
     "output_type": "stream",
     "text": [
      "Mean sepal length: 5.843333333333334\n",
      "0.828066127977863\n"
     ]
    },
    {
     "data": {
      "image/png": "[encoded data removed]",
      "text/plain": [
       "<Figure size 640x480 with 1 Axes>"
      ]
     },
     "metadata": {},
     "output_type": "display_data"
    },
    {
     "data": {
      "image/png": "[encoded data removed]",
      "text/plain": [
       "<Figure size 640x480 with 1 Axes>"
      ]
     },
     "metadata": {},
     "output_type": "display_data"
    }
   ],
   "source": [
    "# 1.\n",
    "print(\"Mean sepal length:\", iris_data[\"sepal_length\"].mean())\n",
    "\n",
    "# 2.\n",
    "print(iris_data[\"sepal_length\"].std())\n",
    "\n",
    "# 3.\n",
    "setosa = iris_data[iris_data[\"species\"] == \"setosa\"]\n",
    "ax = setosa[\"sepal_length\"].hist()\n",
    "ax.set_xlabel(\"Sepal length (cm)\")\n",
    "ax.set_ylabel(\"Number of Setosa flowers\")\n",
    "ax.set_title(\"Distribution of sepal length in Setosa flowers\")\n",
    "plt.show()\n",
    "\n",
    "# 4.\n",
    "ax = plt.axes()\n",
    "for species, group in iris_data.groupby(\"species\"):\n",
    "    group.plot(\"sepal_length\", \"sepal_width\", style=\".\", label=species, ax=ax)\n",
    "ax.legend()\n",
    "ax.set_xlabel(\"Sepal length (cm)\")\n",
    "ax.set_ylabel(\"Sepal width (cm)\")\n",
    "ax.set_title(\"Sepal length vs. sepal width\")\n",
    "ax.grid()\n",
    "plt.show()"
   ]
  }
 ],
 "metadata": {
  "colab": {
   "collapsed_sections": [
    "8KYU1qRgupg8",
    "GIsNHvOEIMJE"
   ],
   "name": "EDS_2020_2021_Python_Positionning_v1.1_no_sol.ipynb",
   "provenance": [],
   "toc_visible": true
  },
  "kernelspec": {
   "display_name": "hypoml",
   "language": "python",
   "name": "python3"
  },
  "language_info": {
   "codemirror_mode": {
    "name": "ipython",
    "version": 3
   },
   "file_extension": ".py",
   "mimetype": "text/x-python",
   "name": "python",
   "nbconvert_exporter": "python",
   "pygments_lexer": "ipython3",
   "version": "3.12.9"
  }
 },
 "nbformat": 4,
 "nbformat_minor": 4
}
